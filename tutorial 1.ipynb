{
 "cells": [
  {
   "cell_type": "code",
   "execution_count": 1,
   "metadata": {},
   "outputs": [],
   "source": [
    "import numpy as np\n",
    "import matplotlib.pyplot as plt\n",
    "import matplotlib.image as mpimg"
   ]
  },
  {
   "cell_type": "code",
   "execution_count": 2,
   "metadata": {},
   "outputs": [],
   "source": [
    "#Paramters\n",
    "r          = 0.5  #L2 regularization\n",
    "alpha      = 0.01 #learning rate\n",
    "batch_size = 100  #number of samples per stocastic update\n",
    "max_its    = 2500 #overall iterations\n",
    " \n",
    " "
   ]
  },
  {
   "cell_type": "code",
   "execution_count": 3,
   "metadata": {},
   "outputs": [],
   "source": [
    "##################Functions###############################################\n",
    "\n",
    "def softmax(x):\n",
    "    e_x = np.exp(x - np.max(x))\n",
    "    return e_x / e_x.sum()\n",
    "\n",
    "def predict(x,W1,W1_0,W2,W2_0):\n",
    "    H1 = np.maximum(0, np.add( np.matmul( np.transpose(W1),x),  W1_0))\n",
    "    H2 = np.maximum(0, np.add( np.matmul( np.transpose(W2),H1),  W2_0))\n",
    "    return softmax(H2)\n",
    "\n",
    "def ReluGrad(x):\n",
    "    x[x<=0] = 0\n",
    "    x[x>0]  = 1\n",
    "    return x\n",
    "\n",
    "def TestOut(W1,W1_0,W2,W2_0,x_test,y_test):\n",
    "    Correct = 0;\n",
    "    for i in range(len(x_test)-1):\n",
    "        #Run predction\n",
    "        yout = predict(x_test[i,:],W1,W1_0,W2,W2_0,)\n",
    "        #Check Results1\n",
    "        if np.argmax(yout) ==y_test[i]:\n",
    "            Correct =  Correct+1\n",
    "    #Output\n",
    "    OverallAccuracy = 100*Correct/len(x_test)\n",
    "    return OverallAccuracy\n",
    "\n"
   ]
  },
  {
   "cell_type": "code",
   "execution_count": 4,
   "metadata": {},
   "outputs": [],
   "source": [
    "#Load data\n",
    "from tensorflow.keras.datasets import mnist\n",
    "(x_train_im, y_train), (x_test_im, y_test) = mnist.load_data()\n",
    "x_train = x_train_im.astype('float32') / 255.\n",
    "x_test  = x_test_im.astype('float32') / 255.\n",
    "x_train = x_train.reshape((len(x_train), np.prod(x_train.shape[1:])))\n",
    "x_test  = x_test.reshape((len(x_test), np.prod(x_test.shape[1:])))\n",
    "    "
   ]
  },
  {
   "cell_type": "code",
   "execution_count": 5,
   "metadata": {},
   "outputs": [],
   "source": [
    "#Random Initial values\n",
    "W1val   = np.random.normal(size=(784,32), scale = .1)\n",
    "W2val   = np.random.normal(size=(32, 10), scale = .1)\n",
    "W1_0val = np.random.normal(size=(32),     scale = .1)\n",
    "W2_0val = np.random.normal(size=(10),     scale = .1)"
   ]
  },
  {
   "cell_type": "code",
   "execution_count": 6,
   "metadata": {},
   "outputs": [],
   "source": [
    "#Useful Variables\n",
    "Lsofar   = 10\n",
    "Loss     = np.zeros(max_its)\n",
    "Accuracy = np.zeros(max_its)\n",
    "insample  = np.zeros(int(max_its/100))\n",
    "outsample = np.zeros(int(max_its/100))\n",
    "count     = 0 "
   ]
  },
  {
   "cell_type": "code",
   "execution_count": 7,
   "metadata": {},
   "outputs": [
    {
     "name": "stdout",
     "output_type": "stream",
     "text": [
      "Batch = 1, Loss: 2.325025, Accuracy: 0.110000\n",
      "Batch = 101, Loss: 2.206517, Accuracy: 0.230000\n",
      "Batch = 201, Loss: 1.935601, Accuracy: 0.540000\n",
      "Batch = 301, Loss: 1.467317, Accuracy: 0.760000\n",
      "Batch = 401, Loss: 1.205554, Accuracy: 0.720000\n",
      "Batch = 501, Loss: 1.053919, Accuracy: 0.770000\n",
      "Batch = 601, Loss: 0.941468, Accuracy: 0.750000\n",
      "Batch = 701, Loss: 0.741900, Accuracy: 0.830000\n",
      "Batch = 801, Loss: 0.704865, Accuracy: 0.820000\n",
      "Batch = 901, Loss: 0.554950, Accuracy: 0.830000\n",
      "Batch = 1001, Loss: 0.634690, Accuracy: 0.830000\n",
      "Batch = 1101, Loss: 0.508779, Accuracy: 0.890000\n",
      "Batch = 1201, Loss: 0.486674, Accuracy: 0.870000\n",
      "Batch = 1301, Loss: 0.620942, Accuracy: 0.860000\n",
      "Batch = 1401, Loss: 0.507388, Accuracy: 0.860000\n",
      "Batch = 1501, Loss: 0.531065, Accuracy: 0.860000\n",
      "Batch = 1601, Loss: 0.429843, Accuracy: 0.890000\n",
      "Batch = 1701, Loss: 0.417517, Accuracy: 0.880000\n",
      "Batch = 1801, Loss: 0.356673, Accuracy: 0.890000\n",
      "Batch = 1901, Loss: 0.498740, Accuracy: 0.860000\n",
      "Batch = 2001, Loss: 0.427608, Accuracy: 0.910000\n",
      "Batch = 2101, Loss: 0.468145, Accuracy: 0.860000\n",
      "Batch = 2201, Loss: 0.334807, Accuracy: 0.930000\n",
      "Batch = 2301, Loss: 0.433121, Accuracy: 0.840000\n",
      "Batch = 2401, Loss: 0.506055, Accuracy: 0.850000\n"
     ]
    }
   ],
   "source": [
    "#Training loop\n",
    "for i in range(max_its):#total number of updates\n",
    "    #reset grads and loss\n",
    "    BatchLoss = 0\n",
    "    BatchCorrect = 0\n",
    "    gradW1   = np.zeros(W1val.shape)\n",
    "    gradW2   = np.zeros(W2val.shape)\n",
    "    gradW1_0 = np.zeros(W1_0val.shape)\n",
    "    gradW2_0 = np.zeros(W2_0val.shape)\n",
    "\n",
    "    #inner iteration-batch\n",
    "    for j in range(batch_size):\n",
    "        #Load image and label\n",
    "        Idx    = np.random.randint(1,60000)\n",
    "        x_val  = x_train[Idx,:]\n",
    "        y_true = np.zeros([10])\n",
    "        y_true[y_train[Idx]] = 1.0\n",
    "        \n",
    "        #Forward pass-> predict(xval,W1val,W1_0val,W2val,W2_0val)\n",
    "        H1val = np.maximum(0, np.add( np.matmul( np.transpose(W1val),x_val), W1_0val))\n",
    "        H2val = np.maximum(0, np.add( np.matmul( np.transpose(W2val),H1val), W2_0val))\n",
    "        y_out = softmax(H2val)\n",
    "        L     = -np.matmul(np.transpose(y_true), np.log(y_out)) \n",
    "\n",
    "        #update loss\n",
    "        BatchLoss = BatchLoss + (1/batch_size)*L\n",
    "        if np.argmax(y_out) == np.argmax(y_true):\n",
    "            BatchCorrect = BatchCorrect+1\n",
    "\n",
    "        #BackProp\n",
    "        D3 = y_out - y_true\n",
    "        gradW2 = gradW2 + np.matmul(np.expand_dims(H1val,1),np.transpose(np.expand_dims(D3,1)))\n",
    "        gradW2_0 = gradW2_0 + D3\n",
    "\n",
    "        D2 = np.multiply(np.matmul(W2val,D3),ReluGrad(H1val))\n",
    "        gradW1 = gradW1 + np.matmul(np.expand_dims(x_val,1),np.transpose(np.expand_dims(D2,1)))\n",
    "        gradW1_0 = gradW1_0 + D2\n",
    "        \n",
    "\n",
    "    #Update weights\n",
    "    W1val   = np.add(W1val, -(alpha/batch_size)*(np.add(gradW1, r*W1val)))\n",
    "    W2val   = np.add(W2val, -(alpha/batch_size)*(np.add(gradW2, r*W2val)))\n",
    "    W1_0val = np.add(W1_0val, -(alpha/batch_size)*(np.add(gradW1_0, r*W1_0val)))\n",
    "    W2_0val = np.add(W2_0val, -(alpha/batch_size)*(np.add(gradW2_0, r*W2_0val)))\n",
    "    Loss[i] = BatchLoss \n",
    "    Accuracy[i] = 100*BatchCorrect/batch_size\n",
    "    \n",
    "    #Print\n",
    "    if i%100 == 0:\n",
    "        print(\"Batch = %d, Loss: %f, Accuracy: %f\" %(i+1,Loss[i],BatchCorrect/batch_size))\n",
    "    if i%100 == 1:\n",
    "        insample[count]  = 100-Accuracy[i]\n",
    "        outsample[count] = 100-TestOut(W1val,W1_0val,W2val,W2_0val,x_train, y_train)\n",
    "        count = count+1"
   ]
  },
  {
   "cell_type": "code",
   "execution_count": 8,
   "metadata": {},
   "outputs": [
    {
     "data": {
      "text/plain": [
       "<matplotlib.legend.Legend at 0x27a350d45f8>"
      ]
     },
     "execution_count": 8,
     "metadata": {},
     "output_type": "execute_result"
    },
    {
     "data": {
      "text/plain": [
       "<Figure size 432x288 with 0 Axes>"
      ]
     },
     "metadata": {},
     "output_type": "display_data"
    },
    {
     "data": {
      "image/png": "[encoded data removed]",
      "text/plain": [
       "<Figure size 432x288 with 2 Axes>"
      ]
     },
     "metadata": {
      "needs_background": "light"
     },
     "output_type": "display_data"
    },
    {
     "data": {
      "image/png": "[encoded data removed]",
      "text/plain": [
       "<Figure size 432x288 with 1 Axes>"
      ]
     },
     "metadata": {
      "needs_background": "light"
     },
     "output_type": "display_data"
    }
   ],
   "source": [
    "###### Visualize Training\n",
    "its = np.arange(max_its)\n",
    "plt.figure(0)\n",
    "fig0,ax1 = plt.subplots()\n",
    "ax1.plot(its,Loss,'r-', label =\"Loss\")\n",
    "ax1.set_ylabel('Loss', color='r')\n",
    "ax1.tick_params('y', colors='r')\n",
    "ax1.set_xlabel('Iterations')\n",
    "ax2 = ax1.twinx()\n",
    "ax2.plot(Accuracy,'b-',label=\"Batch Accuracy\")\n",
    "ax2.set_ylabel(\"Accuracy\", color='b')\n",
    "ax2.tick_params('y', colors='b')\n",
    " \n",
    "plt.figure(1)\n",
    "fig1,ax3 = plt.subplots()\n",
    "ax3.plot(insample,'r-', label = \"In-Sample\")\n",
    "ax3.plot(outsample,'b-',label = \"Out-Sample\")\n",
    "ax3.set_xlabel('Epoch')\n",
    "ax3.set_ylabel('Error')\n",
    "ax3.legend()\n"
   ]
  },
  {
   "cell_type": "code",
   "execution_count": 12,
   "metadata": {},
   "outputs": [
    {
     "name": "stdout",
     "output_type": "stream",
     "text": [
      "1\n"
     ]
    },
    {
     "data": {
      "text/plain": [
       "<matplotlib.image.AxesImage at 0x27a362ab6d8>"
      ]
     },
     "execution_count": 12,
     "metadata": {},
     "output_type": "execute_result"
    },
    {
     "data": {
      "image/png": "[encoded data removed]",
      "text/plain": [
       "<Figure size 432x288 with 1 Axes>"
      ]
     },
     "metadata": {
      "needs_background": "light"
     },
     "output_type": "display_data"
    }
   ],
   "source": [
    "idx = np.random.randint(10000)\n",
    "yout = predict(x_test[idx,:],W1val,W1_0val,W2val,W2_0val)\n",
    "print(np.argmax(yout))\n",
    "plt.imshow(x_test_im[idx])"
   ]
  },
  {
   "cell_type": "code",
   "execution_count": null,
   "metadata": {},
   "outputs": [],
   "source": []
  }
 ],
 "metadata": {
  "kernelspec": {
   "display_name": "Python 3",
   "language": "python",
   "name": "python3"
  },
  "language_info": {
   "codemirror_mode": {
    "name": "ipython",
    "version": 3
   },
   "file_extension": ".py",
   "mimetype": "text/x-python",
   "name": "python",
   "nbconvert_exporter": "python",
   "pygments_lexer": "ipython3",
   "version": "3.6.10"
  }
 },
 "nbformat": 4,
 "nbformat_minor": 2
}
